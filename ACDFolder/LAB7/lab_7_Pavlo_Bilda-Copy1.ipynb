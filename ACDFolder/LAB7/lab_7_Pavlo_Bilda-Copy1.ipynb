{
 "cells": [
  {
   "cell_type": "code",
   "execution_count": 3,
   "id": "74a41681-462d-4459-88b1-104f6874e425",
   "metadata": {},
   "outputs": [
    {
     "name": "stdout",
     "output_type": "stream",
     "text": [
      "Купа: [3, 5, 7]\n",
      "Пошук у геш-таблиці: Banana\n"
     ]
    }
   ],
   "source": [
    "# Лабораторна робота №7\n",
    "# Тема: Дерево, купа, геш-таблиця\n",
    "# Виконав: [Більда Павло]\n",
    "# Група: [КН-24-1]\n",
    "\n",
    "# Дерево\n",
    "class BinaryTree:\n",
    "    def __init__(self, root):\n",
    "        self.root = root\n",
    "        self.left = None\n",
    "        self.right = None\n",
    "\n",
    "    def insert_left(self, node):\n",
    "        if self.left is None:\n",
    "            self.left = BinaryTree(node)\n",
    "        else:\n",
    "            new_node = BinaryTree(node)\n",
    "            new_node.left = self.left\n",
    "            self.left = new_node\n",
    "\n",
    "    def insert_right(self, node):\n",
    "        if self.right is None:\n",
    "            self.right = BinaryTree(node)\n",
    "        else:\n",
    "            new_node = BinaryTree(node)\n",
    "            new_node.right = self.right\n",
    "            self.right = new_node\n",
    "\n",
    "# Купа\n",
    "import heapq\n",
    "\n",
    "heap = []\n",
    "heapq.heappush(heap, 5)\n",
    "heapq.heappush(heap, 3)\n",
    "heapq.heappush(heap, 7)\n",
    "print(\"Купа:\", heap)\n",
    "\n",
    "# Геш-таблиця\n",
    "class HashTable:\n",
    "    def __init__(self, size):\n",
    "        self.size = size\n",
    "        self.table = [[] for _ in range(size)]\n",
    "\n",
    "    def hash_func(self, key):\n",
    "        return key % self.size\n",
    "\n",
    "    def insert(self, key, value):\n",
    "        index = self.hash_func(key)\n",
    "        self.table[index].append((key, value))\n",
    "\n",
    "    def search(self, key):\n",
    "        index = self.hash_func(key)\n",
    "        for k, v in self.table[index]:\n",
    "            if k == key:\n",
    "                return v\n",
    "        return None\n",
    "\n",
    "ht = HashTable(10)\n",
    "ht.insert(5, \"Apple\")\n",
    "ht.insert(15, \"Banana\")\n",
    "print(\"Пошук у геш-таблиці:\", ht.search(15))"
   ]
  },
  {
   "cell_type": "code",
   "execution_count": null,
   "id": "f34995bf-dfbd-4482-940e-4d50a166eb06",
   "metadata": {},
   "outputs": [],
   "source": []
  }
 ],
 "metadata": {
  "kernelspec": {
   "display_name": "Python [conda env:base] *",
   "language": "python",
   "name": "conda-base-py"
  },
  "language_info": {
   "codemirror_mode": {
    "name": "ipython",
    "version": 3
   },
   "file_extension": ".py",
   "mimetype": "text/x-python",
   "name": "python",
   "nbconvert_exporter": "python",
   "pygments_lexer": "ipython3",
   "version": "3.12.7"
  }
 },
 "nbformat": 4,
 "nbformat_minor": 5
}
