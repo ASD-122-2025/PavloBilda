{
 "cells": [
  {
   "cell_type": "markdown",
   "id": "24fc5241-98fe-425c-9ec9-c4eae7f03406",
   "metadata": {},
   "source": [
    "# Лабораторна робота 2\n",
    "**Виконав:** Павло Білда  \n",
    "**Група:** [КН-24-1]  \n",
    "**Дата:** [13.04.25]"
   ]
  },
  {
   "cell_type": "code",
   "execution_count": null,
   "id": "c48c19d0-84c1-4697-ac21-6f012a2d040b",
   "metadata": {},
   "outputs": [],
   "source": [
    "## Завдання 1: Робота зі словником"
   ]
  },
  {
   "cell_type": "code",
   "execution_count": null,
   "id": "0ea90204-8fd2-4881-8879-1b64de2e7318",
   "metadata": {},
   "outputs": [],
   "source": [
    "countries = {\"Ukraine\": \"Kyiv\", \"US\": \"Washington\"}\n",
    "print(countries)\n",
    "print(\"Столиця України:\", countries[\"Ukraine\"])"
   ]
  },
  {
   "cell_type": "code",
   "execution_count": null,
   "id": "3318ac43-1e61-433d-9a5b-479425b187aa",
   "metadata": {},
   "outputs": [],
   "source": [
    "## Завдання 2: Сортування методом вставок"
   ]
  },
  {
   "cell_type": "code",
   "execution_count": null,
   "id": "a674c5ea-652a-41da-a3b9-97dcbf6425f3",
   "metadata": {},
   "outputs": [],
   "source": [
    "import time\n",
    "\n",
    "def insertion_sort(nums):\n",
    "    for j in range(1, len(nums)):\n",
    "        key = nums[j]\n",
    "        i = j - 1\n",
    "        while i >= 0 and nums[i] > key:\n",
    "            nums[i + 1] = nums[i]\n",
    "            i -= 1\n",
    "        nums[i + 1] = key\n",
    "\n",
    "start_time = time.time()\n",
    "random_list = [0, -5, 120, 18, 21, 4]\n",
    "insertion_sort(random_list)\n",
    "print(\"Відсортований список:\", random_list)\n",
    "print(\"Час виконання: %.5f seconds\" % (time.time() - start_time))"
   ]
  },
  {
   "cell_type": "code",
   "execution_count": null,
   "id": "66e3b051-6277-4350-8c2b-57583c95a0c6",
   "metadata": {},
   "outputs": [],
   "source": []
  },
  {
   "cell_type": "code",
   "execution_count": null,
   "id": "76e04e4f-530e-4bb6-a88f-7c91a5cf8e48",
   "metadata": {},
   "outputs": [],
   "source": []
  }
 ],
 "metadata": {
  "kernelspec": {
   "display_name": "Python 3 (ipykernel)",
   "language": "python",
   "name": "python3"
  },
  "language_info": {
   "codemirror_mode": {
    "name": "ipython",
    "version": 3
   },
   "file_extension": ".py",
   "mimetype": "text/x-python",
   "name": "python",
   "nbconvert_exporter": "python",
   "pygments_lexer": "ipython3",
   "version": "3.13.2"
  }
 },
 "nbformat": 4,
 "nbformat_minor": 5
}
