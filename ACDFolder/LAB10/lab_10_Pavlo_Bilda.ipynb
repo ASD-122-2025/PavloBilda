{
 "cells": [
  {
   "cell_type": "code",
   "execution_count": 24,
   "id": "d5e8f162-73ee-4852-b609-941f67119092",
   "metadata": {},
   "outputs": [
    {
     "name": "stdout",
     "output_type": "stream",
     "text": [
      "Кодування Гафмена: [['a', '0'], ['r', '10'], ['b', '110'], ['c', '1110'], ['d', '1111']]\n"
     ]
    }
   ],
   "source": [
    "# Лабораторна робота №10\n",
    "# Тема: Кодування Гафмена\n",
    "# Виконав: [Більда Павло]\n",
    "# Група: [КН-24-1]\n",
    "\n",
    "import heapq\n",
    "from collections import defaultdict\n",
    "\n",
    "def huffman_encode(text):\n",
    "    freq = defaultdict(int)\n",
    "    for char in text:\n",
    "        freq[char] += 1\n",
    "    heap = [[weight, [char, \"\"]] for char, weight in freq.items()]\n",
    "    heapq.heapify(heap)\n",
    "    while len(heap) > 1:\n",
    "        lo = heapq.heappop(heap)\n",
    "        hi = heapq.heappop(heap)\n",
    "        for pair in lo[1:]:\n",
    "            pair[1] = '0' + pair[1]\n",
    "        for pair in hi[1:]:\n",
    "            pair[1] = '1' + pair[1]\n",
    "        heapq.heappush(heap, [lo[0] + hi[0]] + lo[1:] + hi[1:])\n",
    "    return sorted(heapq.heappop(heap)[1:], key=lambda p: (len(p[-1]), p))\n",
    "\n",
    "text = \"abracadabra\"\n",
    "print(\"Кодування Гафмена:\", huffman_encode(text))"
   ]
  },
  {
   "cell_type": "code",
   "execution_count": null,
   "id": "59d4a324-bc18-4be7-8bcb-ed935dc28a28",
   "metadata": {},
   "outputs": [],
   "source": []
  }
 ],
 "metadata": {
  "kernelspec": {
   "display_name": "Python [conda env:base] *",
   "language": "python",
   "name": "conda-base-py"
  },
  "language_info": {
   "codemirror_mode": {
    "name": "ipython",
    "version": 3
   },
   "file_extension": ".py",
   "mimetype": "text/x-python",
   "name": "python",
   "nbconvert_exporter": "python",
   "pygments_lexer": "ipython3",
   "version": "3.12.7"
  }
 },
 "nbformat": 4,
 "nbformat_minor": 5
}
