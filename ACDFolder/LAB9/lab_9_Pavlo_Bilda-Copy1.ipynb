{
 "cells": [
  {
   "cell_type": "code",
   "execution_count": 8,
   "id": "a2d00a5b-86fe-486e-980b-e671a7292543",
   "metadata": {},
   "outputs": [
    {
     "name": "stdout",
     "output_type": "stream",
     "text": [
      "Наївний пошук: [0, 3, 6]\n",
      "Z-функція: [0, 0, 1, 0, 3, 0, 1]\n"
     ]
    }
   ],
   "source": [
    "# Лабораторна робота №9\n",
    "# Тема: Алгоритми на рядках\n",
    "# Виконав: [Більда Павло]\n",
    "# Група: [КН-24-1]\n",
    "\n",
    "# Наївний пошук\n",
    "def naive_search(pattern, text):\n",
    "    occurrences = []\n",
    "    for i in range(len(text) - len(pattern) + 1):\n",
    "        if text[i:i+len(pattern)] == pattern:\n",
    "            occurrences.append(i)\n",
    "    return occurrences\n",
    "\n",
    "print(\"Наївний пошук:\", naive_search(\"abc\", \"abcabcabc\"))\n",
    "\n",
    "# Z-функція\n",
    "def z_function(s):\n",
    "    n = len(s)\n",
    "    z = [0] * n\n",
    "    l, r = 0, 0\n",
    "    for i in range(1, n):\n",
    "        if i <= r:\n",
    "            z[i] = min(r - i + 1, z[i - l])\n",
    "        while i + z[i] < n and s[z[i]] == s[i + z[i]]:\n",
    "            z[i] += 1\n",
    "        if i + z[i] - 1 > r:\n",
    "            l, r = i, i + z[i] - 1\n",
    "    return z\n",
    "\n",
    "print(\"Z-функція:\", z_function(\"abacaba\"))"
   ]
  },
  {
   "cell_type": "code",
   "execution_count": null,
   "id": "ddd723ab-05a3-4668-8178-6f61c7e77102",
   "metadata": {},
   "outputs": [],
   "source": []
  }
 ],
 "metadata": {
  "kernelspec": {
   "display_name": "Python [conda env:base] *",
   "language": "python",
   "name": "conda-base-py"
  },
  "language_info": {
   "codemirror_mode": {
    "name": "ipython",
    "version": 3
   },
   "file_extension": ".py",
   "mimetype": "text/x-python",
   "name": "python",
   "nbconvert_exporter": "python",
   "pygments_lexer": "ipython3",
   "version": "3.12.7"
  }
 },
 "nbformat": 4,
 "nbformat_minor": 5
}
