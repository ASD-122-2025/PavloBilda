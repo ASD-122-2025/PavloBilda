{
 "cells": [
  {
   "cell_type": "code",
   "execution_count": null,
   "id": "2007d322-a791-42b0-9653-e6f250ff76d8",
   "metadata": {},
   "outputs": [],
   "source": [
    "Лабораторна робота N3\n",
    "\n",
    "Виконав: Павло Більда\n",
    "Група: [КН_24_1]\n",
    "Дата: [5.05.25]"
   ]
  },
  {
   "cell_type": "code",
   "execution_count": null,
   "id": "52078970-aee6-4b14-845a-07c178d4d6a5",
   "metadata": {},
   "outputs": [],
   "source": [
    "# Завантажив Python Anaconda та активувати в ньому віртуальне середовище, створене під час виконання попередньої лабораторної роботи."
   ]
  },
  {
   "cell_type": "code",
   "execution_count": null,
   "id": "3778680a-ea5d-4ee3-9934-45f12b4af8de",
   "metadata": {},
   "outputs": [],
   "source": [
    "# Створив Notebook-документ <lab_3_Pavlo_Bilda> за допомогою Jupyter Notebook"
   ]
  },
  {
   "cell_type": "code",
   "execution_count": null,
   "id": "06d28919-5661-4e2c-8c1b-ee09c7bcaff0",
   "metadata": {},
   "outputs": [],
   "source": [
    "#Виконав теоретичні розрахунки асимптотичної складності алгоритмів сортування методами вставляння та бульбашки."
   ]
  },
  {
   "cell_type": "code",
   "execution_count": null,
   "id": "29d20b7b-f84d-4f7e-801d-3487b4a4a999",
   "metadata": {},
   "outputs": [],
   "source": [
    "# ТЕОРЕТИЧНІ РОЗРАХУНКИ\n",
    "\n",
    "#Сортування вставкою (Insertion Sort):\n",
    "#Найгірший випадок: O(n^2) - коли масив відсортований у зворотному порядку. Для кожного з n елементів потрібно в середньому порівняти та зсунути n/2 попередніх елементів.\n",
    "#Найкращий випадок: O(n) - коли масив вже відсортований. Потрібно лише один прохід по масиву для перевірки порядку.\n",
    "#Середній випадок: O(n^2)\n",
    "#Сортування бульбашкою (Bubble Sort):\n",
    "#Найгірший випадок: O(n^2) - коли масив відсортований у зворотному порядку. Потрібно n-1 проходів по масиву, і на кожному проході в середньому n/2 порівнянь.\n",
    "#Найкращий випадок: O(n) - коли масив вже відсортований. Потрібно один прохід для перевірки відсутності обмінів.\n",
    "#Середній випадок: O(n^2)\n",
    "\n",
    "\n",
    "\n"
   ]
  },
  {
   "cell_type": "code",
   "execution_count": null,
   "id": "715a6727-d545-400b-910b-d92a63a8b371",
   "metadata": {},
   "outputs": [],
   "source": [
    "def bubble_sort(arr):\n",
    "    \"\"\"Сортує масив arr методом бульбашки.\"\"\"\n",
    "    n = len(arr)\n",
    "    for i in range(n - 1):  \n",
    "        swapped = False\n",
    "        for j in range(n - 1 - i):  # Внутрішній цикл для порівняння сусідніх\n",
    "            if arr[j] > arr[j + 1]:\n",
    "                arr[j], arr[j + 1] = arr[j], arr[j + 1]  \n",
    "                swapped = True\n",
    "        if not swapped:  \n",
    "            break\n",
    "    return arr"
   ]
  },
  {
   "cell_type": "code",
   "execution_count": null,
   "id": "df9f6db0-c84b-4fb4-95b2-a0e7cc151812",
   "metadata": {},
   "outputs": [],
   "source": [
    "import time\n",
    "import random\n",
    "import matplotlib.pyplot as plt"
   ]
  },
  {
   "cell_type": "code",
   "execution_count": null,
   "id": "d6c17c95-6ac2-4951-bd16-4abdac594663",
   "metadata": {},
   "outputs": [],
   "source": [
    "def insertion_sort(arr):\n",
    "    # масив arr методом вставки.\n",
    "    for i in range(1, len(arr)):\n",
    "        key = arr[i]\n",
    "        j = i - 1\n",
    "        while j >= 0 and arr[j] > key:\n",
    "            arr[j + 1] = arr[j]\n",
    "            j -= 1\n",
    "        arr[j + 1] = key\n",
    "    return arr"
   ]
  },
  {
   "cell_type": "code",
   "execution_count": null,
   "id": "46693343-dd6b-475a-9e85-0f16aabfd339",
   "metadata": {},
   "outputs": [],
   "source": [
    "sizes = [5, 10, 50, 100, 500, 1000, 2000, 3000, 4000, 5000, 10000, 20000, 50000, 100000]  # Розміри масивів\n",
    "insertion_times = []\n",
    "bubble_times = []"
   ]
  },
  {
   "cell_type": "code",
   "execution_count": null,
   "id": "c77fb4a3-bd6a-4f1a-a411-caae0d2fa8a6",
   "metadata": {},
   "outputs": [],
   "source": [
    "for n in sizes:\n",
    "    arr = [random.randint(0, n) for _ in range(n)]  #випадковий масив\n",
    "\n",
    "    #  час для insertion_sort\n",
    "    start_time = time.time()\n",
    "    insertion_sort(arr.copy())  # копія, щоб не змінювати оригінал\n",
    "    end_time = time.time()\n",
    "    insertion_times.append(end_time - start_time)\n",
    "\n",
    "    #час для bubble_sort\n",
    "    start_time = time.time()\n",
    "    bubble_sort(arr.copy())\n",
    "    end_time = time.time()\n",
    "    bubble_times.append(end_time - start_time)"
   ]
  },
  {
   "cell_type": "code",
   "execution_count": null,
   "id": "e26ea9ca-7acf-49f2-a8c2-83e19fa0316d",
   "metadata": {},
   "outputs": [],
   "source": [
    "plt.plot(sizes, insertion_times, label='Insertion Sort')\n",
    "plt.plot(sizes, bubble_times, label='Bubble Sort')\n",
    "\n",
    "plt.xlabel('Розмір масиву (n)')\n",
    "plt.ylabel('Час виконання (секунди)')\n",
    "plt.title('Порівняння часу виконання Insertion Sort та Bubble Sort')\n",
    "plt.legend()\n",
    "plt.grid(True)\n",
    "plt.show()"
   ]
  },
  {
   "cell_type": "code",
   "execution_count": null,
   "id": "75244de6-0ea7-4386-b9a4-8d2d0b0f90f1",
   "metadata": {},
   "outputs": [],
   "source": [
    "#ВІДПОВІДІ НА КОНТРОЛЬНІ ПИТАННЯ\n",
    "\n",
    "# 1. Що таке O-нотація і чим вона відрізняється від Ω-нотації?\n",
    "# O-нотація (Big O) - це верхня межа асимптотичної складності алгоритму. Вона описує найгірший випадок або верхню оцінку швидкості росту часу виконання або використання пам'яті зі збільшенням розміру вхідних даних.\n",
    "\n",
    "# Ω-нотація (Big Omega) - це нижня межа асимптотичної складності алгоритму. Вона описує найкращий випадок або нижню оцінку швидкості росту.\n",
    "\n",
    "\n",
    "# 2. Яку часову складність має алгоритм сортування методом вставляння за найсприятливіших умов, коли масив відсортовано?\n",
    "\n",
    "# O(n). У цьому випадку зовнішній цикл пройде n-1 разів, але внутрішній цикл не виконається жодного разу, оскільки кожен елемент вже знаходиться на своєму місці.\n",
    "\n",
    "# 3. Надати визначення ефективного алгоритму.\n",
    "\n",
    "# Ефективний алгоритм - це алгоритм, який використовує розумну кількість обчислювальних ресурсів (час, пам'ять) для розв'язання задачі. Зазвичай, ефективність оцінюється за асимптотичною складністю. Алгоритм вважається ефективним, якщо його складність є поліноміальною (наприклад, O(n), O(n log n), O(n^k) для деякої константи k), а не експоненціальною (наприклад, O(2^n), O(n!)).\n",
    "\n",
    "# 4. Пояснити поняття головного параметра (розміру) завдання.\n",
    "\n",
    "# Головний параметр (розмір) завдання - це міра обсягу вхідних даних, що подаються алгоритму. Він позначається n і визначає, як змінюється час виконання або використання пам'яті алгоритму. Наприклад, для алгоритмів сортування розміром завдання є кількість елементів, які потрібно відсортувати.\n",
    "\n",
    "# 5. Функція часової складності має вигляд: F(N) = N^3 + 7N^2 - 14N. Як записати асимптотичну складність у O-нотації?\n",
    "\n",
    "# O(N^3). У O-нотації ми враховуємо тільки член з найвищим порядком зростання, оскільки він домінує при великих значеннях N."
   ]
  }
 ],
 "metadata": {
  "kernelspec": {
   "display_name": "Python 3 (ipykernel)",
   "language": "python",
   "name": "python3"
  },
  "language_info": {
   "codemirror_mode": {
    "name": "ipython",
    "version": 3
   },
   "file_extension": ".py",
   "mimetype": "text/x-python",
   "name": "python",
   "nbconvert_exporter": "python",
   "pygments_lexer": "ipython3",
   "version": "3.13.2"
  }
 },
 "nbformat": 4,
 "nbformat_minor": 5
}
