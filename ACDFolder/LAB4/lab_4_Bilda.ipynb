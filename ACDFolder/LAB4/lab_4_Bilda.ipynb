{
 "cells": [
  {
   "cell_type": "markdown",
   "id": "1732f158",
   "metadata": {},
   "source": [
    "# Лабораторна робота №4\n",
    "## Тема: Рекурсія. Стратегія «розділяй і володарюй»\n",
    "**Студент**: Павло Більда  \n",
    "**Група**: КН-23  \n",
    "**Дата**: 18.05.2025  \n"
   ]
  },
  {
   "cell_type": "markdown",
   "id": "d91eeaac",
   "metadata": {},
   "source": [
    "### Обчислення факторіала за допомогою циклу `for`"
   ]
  },
  {
   "cell_type": "code",
   "execution_count": null,
   "id": "943c9eaa",
   "metadata": {},
   "outputs": [],
   "source": [
    "def factorial_for(n):\n",
    "    result = 1\n",
    "    for i in range(2, n + 1):\n",
    "        result *= i\n",
    "    return result\n",
    "\n",
    "# Тест\n",
    "factorial_for(5)"
   ]
  },
  {
   "cell_type": "markdown",
   "id": "9643e093",
   "metadata": {},
   "source": [
    "### Обчислення факторіала рекурсивно"
   ]
  },
  {
   "cell_type": "code",
   "execution_count": null,
   "id": "5e83b8ce",
   "metadata": {},
   "outputs": [],
   "source": [
    "def factorial_recursive(n):\n",
    "    if n == 0:\n",
    "        return 1\n",
    "    return n * factorial_recursive(n - 1)\n",
    "\n",
    "factorial_recursive(5)"
   ]
  },
  {
   "cell_type": "markdown",
   "id": "3fce35f2",
   "metadata": {},
   "source": [
    "### Обчислення n-го числа Фібоначчі рекурсивно"
   ]
  },
  {
   "cell_type": "code",
   "execution_count": null,
   "id": "39d5f7aa",
   "metadata": {},
   "outputs": [],
   "source": [
    "def fibonacci(n):\n",
    "    if n == 0:\n",
    "        return 0\n",
    "    elif n in (1, 2):\n",
    "        return 1\n",
    "    return fibonacci(n - 1) + fibonacci(n - 2)\n",
    "\n",
    "fibonacci(10)"
   ]
  },
  {
   "cell_type": "markdown",
   "id": "c979c836",
   "metadata": {},
   "source": [
    "### Сортування злиттям (Merge Sort)"
   ]
  },
  {
   "cell_type": "code",
   "execution_count": null,
   "id": "1cff74b0",
   "metadata": {},
   "outputs": [],
   "source": [
    "def merge(left, right):\n",
    "    result = []\n",
    "    i = j = 0\n",
    "    while i < len(left) and j < len(right):\n",
    "        if left[i] <= right[j]:\n",
    "            result.append(left[i])\n",
    "            i += 1\n",
    "        else:\n",
    "            result.append(right[j])\n",
    "            j += 1\n",
    "    result += left[i:]\n",
    "    result += right[j:]\n",
    "    return result\n",
    "\n",
    "def mergesort(arr):\n",
    "    if len(arr) < 2:\n",
    "        return arr\n",
    "    mid = len(arr) // 2\n",
    "    return merge(mergesort(arr[:mid]), mergesort(arr[mid:]))\n",
    "\n",
    "mergesort([6, 5, 3, 1, 8, 7, 2, 4])"
   ]
  },
  {
   "cell_type": "markdown",
   "id": "b8f3c1de",
   "metadata": {},
   "source": [
    "### Контрольні питання та відповіді"
   ]
  },
  {
   "cell_type": "markdown",
   "id": "ce2d9850",
   "metadata": {},
   "source": [
    "\n",
    "1. **Складність задачі із символом Ω:**  \n",
    "   Ω-нотація — це нижня межа складності алгоритму. Вона описує найменший обсяг ресурсів, яких вимагає алгоритм у найкращому випадку.\n",
    "\n",
    "2. **O-нотація для F(N) = N³ + 7N² − 14N:**  \n",
    "   `O(N³)`\n",
    "\n",
    "3. **O-нотація для F(N) = 1.01N + N¹⁰:**  \n",
    "   `O(N¹⁰)`\n",
    "\n",
    "4. **O-нотація для F(N) = N^1.3 + 10 log₂ N:**  \n",
    "   `O(N^1.3)`\n",
    "\n",
    "5. **Ідея розпаралелювання обчислень:**  \n",
    "   Поділ завдання на підзадачі, які можна виконати одночасно на кількох ядрах чи процесорах. Наприклад, сортування злиттям дозволяє паралельно обробляти підмасиви.\n",
    "\n",
    "6. **Алгоритми, які дозволяють розпаралелювання:**  \n",
    "   Merge Sort.  \n",
    "   **Способи підвищення швидкості:** оптимізація алгоритму, використання ефективних структур даних, багатопоточність, апаратне прискорення. Найефективніший — зміна алгоритму на більш ефективний.\n"
   ]
  }
 ],
 "metadata": {},
 "nbformat": 4,
 "nbformat_minor": 5
}
