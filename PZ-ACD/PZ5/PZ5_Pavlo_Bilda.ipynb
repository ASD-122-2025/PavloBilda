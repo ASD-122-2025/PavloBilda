{
 "cells": [
  {
   "cell_type": "code",
   "execution_count": 2,
   "id": "8f0f1ca6-b4fc-4554-b10b-8443f97a845f",
   "metadata": {},
   "outputs": [
    {
     "name": "stdout",
     "output_type": "stream",
     "text": [
      "Топологічне сортування (DFS): [1, 3, 2, 4, 5]\n"
     ]
    }
   ],
   "source": [
    "from collections import defaultdict\n",
    "\n",
    "def dfs_topological_sort(graph):\n",
    "    visited = set()\n",
    "    stack = []\n",
    "\n",
    "    def dfs(node):\n",
    "        if node in visited:\n",
    "            return\n",
    "        visited.add(node)\n",
    "        for neighbor in graph[node]:\n",
    "            dfs(neighbor)\n",
    "        stack.append(node)\n",
    "\n",
    "    for node in graph:\n",
    "        dfs(node)\n",
    "    return stack[::-1]\n",
    "\n",
    "# Граф з умови варіанта 2\n",
    "graph = {\n",
    "    1: [2, 3],\n",
    "    2: [4],\n",
    "    3: [5],\n",
    "    4: [5],\n",
    "    5: []\n",
    "}\n",
    "\n",
    "order = dfs_topological_sort(graph)\n",
    "print(\"Топологічне сортування (DFS):\", order)"
   ]
  },
  {
   "cell_type": "code",
   "execution_count": null,
   "id": "79bfac0a-25d9-4ede-8d89-015296564a9c",
   "metadata": {},
   "outputs": [],
   "source": []
  }
 ],
 "metadata": {
  "kernelspec": {
   "display_name": "Python [conda env:base] *",
   "language": "python",
   "name": "conda-base-py"
  },
  "language_info": {
   "codemirror_mode": {
    "name": "ipython",
    "version": 3
   },
   "file_extension": ".py",
   "mimetype": "text/x-python",
   "name": "python",
   "nbconvert_exporter": "python",
   "pygments_lexer": "ipython3",
   "version": "3.12.7"
  }
 },
 "nbformat": 4,
 "nbformat_minor": 5
}
