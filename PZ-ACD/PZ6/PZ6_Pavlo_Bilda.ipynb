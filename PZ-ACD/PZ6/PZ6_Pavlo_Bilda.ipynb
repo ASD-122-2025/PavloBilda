{
 "cells": [
  {
   "cell_type": "code",
   "execution_count": 4,
   "id": "99f05060-77b8-4d0c-951f-3fcacb86c00c",
   "metadata": {},
   "outputs": [
    {
     "name": "stdout",
     "output_type": "stream",
     "text": [
      "Найкоротші шляхи від вершини 1 : {1: 0, 2: 4, 3: 5, 4: 3}\n"
     ]
    }
   ],
   "source": [
    "import heapq\n",
    "\n",
    "def dijkstra(graph, start):\n",
    "    distances = {node: float('inf') for node in graph}\n",
    "    distances[start] = 0\n",
    "    queue = [(0, start)]\n",
    "\n",
    "    while queue:\n",
    "        current_distance, current_node = heapq.heappop(queue)\n",
    "        if current_distance > distances[current_node]:\n",
    "            continue\n",
    "        for neighbor, weight in graph[current_node].items():\n",
    "            distance = current_distance + weight\n",
    "            if distance < distances[neighbor]:\n",
    "                distances[neighbor] = distance\n",
    "                heapq.heappush(queue, (distance, neighbor))\n",
    "\n",
    "    return distances\n",
    "\n",
    "graph = {\n",
    "    1: {2: 10, 3: 5, 4: 3},\n",
    "    2: {3: 1},\n",
    "    3: {},\n",
    "    4: {2: 1}\n",
    "}\n",
    "\n",
    "start_node = 1\n",
    "shortest_paths = dijkstra(graph, start_node)\n",
    "print(\"Найкоротші шляхи від вершини\", start_node, \":\", shortest_paths)"
   ]
  },
  {
   "cell_type": "code",
   "execution_count": null,
   "id": "458065f7-1883-4709-a2b2-3cbf9f065229",
   "metadata": {},
   "outputs": [],
   "source": []
  }
 ],
 "metadata": {
  "kernelspec": {
   "display_name": "Python [conda env:base] *",
   "language": "python",
   "name": "conda-base-py"
  },
  "language_info": {
   "codemirror_mode": {
    "name": "ipython",
    "version": 3
   },
   "file_extension": ".py",
   "mimetype": "text/x-python",
   "name": "python",
   "nbconvert_exporter": "python",
   "pygments_lexer": "ipython3",
   "version": "3.12.7"
  }
 },
 "nbformat": 4,
 "nbformat_minor": 5
}
