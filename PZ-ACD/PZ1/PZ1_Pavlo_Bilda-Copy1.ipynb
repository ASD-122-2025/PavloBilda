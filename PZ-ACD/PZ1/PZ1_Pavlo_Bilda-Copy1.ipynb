{
 "cells": [
  {
   "cell_type": "code",
   "execution_count": 8,
   "id": "ac94471b-ae87-4ad5-adb6-f190adb1659e",
   "metadata": {},
   "outputs": [
    {
     "name": "stdout",
     "output_type": "stream",
     "text": [
      "Завдання 2: f(n) = 7n^2, g(n) = n^2 => O(n^2): 7\n",
      "Завдання 7: f(n) = 3n^3 + 5, g(n) = n^3 => O(n^3): 3 + 5/n**3\n"
     ]
    }
   ],
   "source": [
    "# Завдання 2: f(n) = 7n^2 => O(n^2)\n",
    "# Завдання 7: f(n) = 3n^3 + 5 => довести, що O(n^3)\n",
    "\n",
    "from sympy import symbols, simplify\n",
    "\n",
    "n = symbols('n')\n",
    "\n",
    "f1 = 7*n**2\n",
    "g1 = n**2\n",
    "print(\"Завдання 2: f(n) = 7n^2, g(n) = n^2 =>\", \"O(n^2):\", simplify(f1 / g1))\n",
    "\n",
    "f2 = 3*n**3 + 5\n",
    "g2 = n**3\n",
    "print(\"Завдання 7: f(n) = 3n^3 + 5, g(n) = n^3 =>\", \"O(n^3):\", simplify(f2 / g2))"
   ]
  },
  {
   "cell_type": "code",
   "execution_count": null,
   "id": "92648f75-c817-4096-a916-44b06511a123",
   "metadata": {},
   "outputs": [],
   "source": []
  }
 ],
 "metadata": {
  "kernelspec": {
   "display_name": "Python [conda env:base] *",
   "language": "python",
   "name": "conda-base-py"
  },
  "language_info": {
   "codemirror_mode": {
    "name": "ipython",
    "version": 3
   },
   "file_extension": ".py",
   "mimetype": "text/x-python",
   "name": "python",
   "nbconvert_exporter": "python",
   "pygments_lexer": "ipython3",
   "version": "3.12.7"
  }
 },
 "nbformat": 4,
 "nbformat_minor": 5
}
