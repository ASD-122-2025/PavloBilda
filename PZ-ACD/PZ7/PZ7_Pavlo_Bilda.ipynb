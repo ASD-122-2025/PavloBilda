{
 "cells": [
  {
   "cell_type": "code",
   "execution_count": 2,
   "id": "6106f0bd-5e6c-4a81-b4a8-21cebd0399bb",
   "metadata": {},
   "outputs": [
    {
     "name": "stdout",
     "output_type": "stream",
     "text": [
      "Найдовша спільна підпослідовність: ACD\n"
     ]
    }
   ],
   "source": [
    "def longest_common_subsequence(s1, s2):\n",
    "    m, n = len(s1), len(s2)\n",
    "    dp = [[0]*(n+1) for _ in range(m+1)]\n",
    "\n",
    "    for i in range(1, m+1):\n",
    "        for j in range(1, n+1):\n",
    "            if s1[i-1] == s2[j-1]:\n",
    "                dp[i][j] = dp[i-1][j-1] + 1\n",
    "            else:\n",
    "                dp[i][j] = max(dp[i-1][j], dp[i][j-1])\n",
    "\n",
    "    # Відновлення підпослідовності\n",
    "    i, j = m, n\n",
    "    lcs = []\n",
    "    while i > 0 and j > 0:\n",
    "        if s1[i-1] == s2[j-1]:\n",
    "            lcs.append(s1[i-1])\n",
    "            i -= 1\n",
    "            j -= 1\n",
    "        elif dp[i-1][j] > dp[i][j-1]:\n",
    "            i -= 1\n",
    "        else:\n",
    "            j -= 1\n",
    "\n",
    "    return ''.join(reversed(lcs))\n",
    "\n",
    "s1 = \"ABCDF\"\n",
    "s2 = \"ACEDB\"\n",
    "print(\"Найдовша спільна підпослідовність:\", longest_common_subsequence(s1, s2))"
   ]
  },
  {
   "cell_type": "code",
   "execution_count": null,
   "id": "f97473ad-a8db-4b53-9945-84846e52078b",
   "metadata": {},
   "outputs": [],
   "source": []
  }
 ],
 "metadata": {
  "kernelspec": {
   "display_name": "Python [conda env:base] *",
   "language": "python",
   "name": "conda-base-py"
  },
  "language_info": {
   "codemirror_mode": {
    "name": "ipython",
    "version": 3
   },
   "file_extension": ".py",
   "mimetype": "text/x-python",
   "name": "python",
   "nbconvert_exporter": "python",
   "pygments_lexer": "ipython3",
   "version": "3.12.7"
  }
 },
 "nbformat": 4,
 "nbformat_minor": 5
}
