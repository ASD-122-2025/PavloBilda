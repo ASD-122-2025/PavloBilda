{
 "cells": [
  {
   "cell_type": "code",
   "execution_count": 1,
   "id": "9e2a32ff-8e6c-4a4d-9aec-9816dd8ecfbb",
   "metadata": {},
   "outputs": [
    {
     "name": "stdout",
     "output_type": "stream",
     "text": [
      "До сортування: [64, 34, 25, 12, 22, 11, 90]\n",
      "Після бульбашкового сортування: [11, 12, 22, 25, 34, 64, 90]\n",
      "Після сортування вставлянням: [11, 12, 22, 25, 34, 64, 90]\n"
     ]
    }
   ],
   "source": [
    "# Алгоритм бульбашкового сортування\n",
    "def bubble_sort(arr):\n",
    "    n = len(arr)\n",
    "    for i in range(n):\n",
    "        for j in range(0, n-i-1):\n",
    "            if arr[j] > arr[j+1]:\n",
    "                arr[j], arr[j+1] = arr[j+1], arr[j]\n",
    "    return arr\n",
    "\n",
    "arr = [64, 34, 25, 12, 22, 11, 90]\n",
    "print(\"До сортування:\", arr)\n",
    "print(\"Після бульбашкового сортування:\", bubble_sort(arr.copy()))\n",
    "\n",
    "# Алгоритм сортування вставлянням\n",
    "def insertion_sort(arr):\n",
    "    for j in range(1, len(arr)):\n",
    "        key = arr[j]\n",
    "        i = j - 1\n",
    "        while i >= 0 and arr[i] > key:\n",
    "            arr[i + 1] = arr[i]\n",
    "            i -= 1\n",
    "        arr[i + 1] = key\n",
    "    return arr\n",
    "\n",
    "print(\"Після сортування вставлянням:\", insertion_sort(arr.copy()))"
   ]
  },
  {
   "cell_type": "code",
   "execution_count": null,
   "id": "875810f2-eb6d-4c2d-bda6-3621d29014dc",
   "metadata": {},
   "outputs": [],
   "source": []
  }
 ],
 "metadata": {
  "kernelspec": {
   "display_name": "Python [conda env:base] *",
   "language": "python",
   "name": "conda-base-py"
  },
  "language_info": {
   "codemirror_mode": {
    "name": "ipython",
    "version": 3
   },
   "file_extension": ".py",
   "mimetype": "text/x-python",
   "name": "python",
   "nbconvert_exporter": "python",
   "pygments_lexer": "ipython3",
   "version": "3.12.7"
  }
 },
 "nbformat": 4,
 "nbformat_minor": 5
}
