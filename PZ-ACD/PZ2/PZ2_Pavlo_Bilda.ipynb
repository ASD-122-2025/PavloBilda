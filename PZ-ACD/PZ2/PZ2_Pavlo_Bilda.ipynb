{
 "cells": [
  {
   "cell_type": "code",
   "execution_count": 10,
   "id": "a0960919-03d8-43da-bcdc-b5e8d9df188c",
   "metadata": {},
   "outputs": [
    {
     "name": "stdout",
     "output_type": "stream",
     "text": [
      "Завдання 2: f(n)/g(n) = 4\n",
      "Завдання 7: f(n)/g(n) = 0\n"
     ]
    }
   ],
   "source": [
    "# Завдання 2: f(n) = 4n^3 - 12n + 9, g(n) = n^3 => довести, що Ω(g(n))\n",
    "# Завдання 7: f(n) = n^3 + 2n^2 - 5n + 8, g(n) = n^4 => довести, що O(g(n))\n",
    "\n",
    "from sympy import limit\n",
    "\n",
    "f3 = 4*n**3 - 12*n + 9\n",
    "g3 = n**3\n",
    "print(\"Завдання 2: f(n)/g(n) =\", limit(f3 / g3, n, float('inf')))\n",
    "\n",
    "f4 = n**3 + 2*n**2 - 5*n + 8\n",
    "g4 = n**4\n",
    "print(\"Завдання 7: f(n)/g(n) =\", limit(f4 / g4, n, float('inf')))"
   ]
  }
 ],
 "metadata": {
  "kernelspec": {
   "display_name": "Python [conda env:base] *",
   "language": "python",
   "name": "conda-base-py"
  },
  "language_info": {
   "codemirror_mode": {
    "name": "ipython",
    "version": 3
   },
   "file_extension": ".py",
   "mimetype": "text/x-python",
   "name": "python",
   "nbconvert_exporter": "python",
   "pygments_lexer": "ipython3",
   "version": "3.12.7"
  }
 },
 "nbformat": 4,
 "nbformat_minor": 5
}
