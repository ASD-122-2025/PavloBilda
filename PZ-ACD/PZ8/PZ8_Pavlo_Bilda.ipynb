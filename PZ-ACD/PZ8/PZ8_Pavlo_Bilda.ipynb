{
 "cells": [
  {
   "cell_type": "code",
   "execution_count": 1,
   "id": "db0b40c1-e202-4612-9880-f5e8a6fb707f",
   "metadata": {},
   "outputs": [
    {
     "name": "stdout",
     "output_type": "stream",
     "text": [
      "Покриття множини:\n",
      "{1, 2, 3}\n",
      "{4, 5, 6}\n"
     ]
    }
   ],
   "source": [
    "def greedy_set_cover(universe, subsets):\n",
    "    covered = set()\n",
    "    cover = []\n",
    "    while covered != universe:\n",
    "        subset = max(subsets, key=lambda s: len(s - covered))\n",
    "        cover.append(subset)\n",
    "        covered |= subset\n",
    "    return cover\n",
    "\n",
    "universe = set(range(1, 7))\n",
    "subsets = [{1, 2, 3}, {2, 4}, {3, 4, 5}, {4, 5, 6}]\n",
    "result = greedy_set_cover(universe, subsets)\n",
    "print(\"Покриття множини:\")\n",
    "for s in result:\n",
    "    print(s)"
   ]
  },
  {
   "cell_type": "code",
   "execution_count": null,
   "id": "38354875-d333-415e-a255-1ea2cb745ddc",
   "metadata": {},
   "outputs": [],
   "source": []
  }
 ],
 "metadata": {
  "kernelspec": {
   "display_name": "Python [conda env:base] *",
   "language": "python",
   "name": "conda-base-py"
  },
  "language_info": {
   "codemirror_mode": {
    "name": "ipython",
    "version": 3
   },
   "file_extension": ".py",
   "mimetype": "text/x-python",
   "name": "python",
   "nbconvert_exporter": "python",
   "pygments_lexer": "ipython3",
   "version": "3.12.7"
  }
 },
 "nbformat": 4,
 "nbformat_minor": 5
}
